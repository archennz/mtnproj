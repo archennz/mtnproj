{
 "cells": [
  {
   "cell_type": "code",
   "execution_count": 1,
   "metadata": {},
   "outputs": [],
   "source": [
    "import pandas as pd"
   ]
  },
  {
   "cell_type": "code",
   "execution_count": 51,
   "metadata": {},
   "outputs": [],
   "source": [
    "import scraper"
   ]
  },
  {
   "cell_type": "code",
   "execution_count": 2,
   "metadata": {},
   "outputs": [],
   "source": [
    "df = pd.read_csv('app_data/whole_jt_data.csv')"
   ]
  },
  {
   "cell_type": "code",
   "execution_count": 5,
   "metadata": {},
   "outputs": [
    {
     "data": {
      "text/html": [
       "<div>\n",
       "<style scoped>\n",
       "    .dataframe tbody tr th:only-of-type {\n",
       "        vertical-align: middle;\n",
       "    }\n",
       "\n",
       "    .dataframe tbody tr th {\n",
       "        vertical-align: top;\n",
       "    }\n",
       "\n",
       "    .dataframe thead th {\n",
       "        text-align: right;\n",
       "    }\n",
       "</style>\n",
       "<table border=\"1\" class=\"dataframe\">\n",
       "  <thead>\n",
       "    <tr style=\"text-align: right;\">\n",
       "      <th></th>\n",
       "      <th>Route</th>\n",
       "      <th>URL</th>\n",
       "      <th>stars</th>\n",
       "      <th>type</th>\n",
       "      <th>rating</th>\n",
       "      <th>Pitches</th>\n",
       "      <th>Length</th>\n",
       "      <th>latitude</th>\n",
       "      <th>Longitude</th>\n",
       "      <th>id</th>\n",
       "      <th>location</th>\n",
       "      <th>grade</th>\n",
       "      <th>safety</th>\n",
       "      <th>Unnamed: 0</th>\n",
       "    </tr>\n",
       "  </thead>\n",
       "  <tbody>\n",
       "    <tr>\n",
       "      <th>0</th>\n",
       "      <td>Aiguille de Joshua Tree (aka The Finger of Her...</td>\n",
       "      <td>https://www.mountainproject.com/route/10572198...</td>\n",
       "      <td>3.0</td>\n",
       "      <td>Trad</td>\n",
       "      <td>5.5 X</td>\n",
       "      <td>1</td>\n",
       "      <td>30.0</td>\n",
       "      <td>34.01514</td>\n",
       "      <td>-116.17858</td>\n",
       "      <td>105721981</td>\n",
       "      <td>['Aiguille de Joshua Tree', 'Lost Horse Area',...</td>\n",
       "      <td>5</td>\n",
       "      <td>X</td>\n",
       "      <td>NaN</td>\n",
       "    </tr>\n",
       "    <tr>\n",
       "      <th>1</th>\n",
       "      <td>The Chief</td>\n",
       "      <td>https://www.mountainproject.com/route/10572416...</td>\n",
       "      <td>2.4</td>\n",
       "      <td>Trad</td>\n",
       "      <td>5.5</td>\n",
       "      <td>1</td>\n",
       "      <td>40.0</td>\n",
       "      <td>34.04045</td>\n",
       "      <td>-116.17781</td>\n",
       "      <td>105724168</td>\n",
       "      <td>['Reggie Dome', 'North Wonderland Approach', '...</td>\n",
       "      <td>5</td>\n",
       "      <td>S</td>\n",
       "      <td>NaN</td>\n",
       "    </tr>\n",
       "    <tr>\n",
       "      <th>2</th>\n",
       "      <td>Men with Cow's Heads</td>\n",
       "      <td>https://www.mountainproject.com/route/10572241...</td>\n",
       "      <td>2.0</td>\n",
       "      <td>Trad</td>\n",
       "      <td>5.5</td>\n",
       "      <td>1</td>\n",
       "      <td>50.0</td>\n",
       "      <td>34.01886</td>\n",
       "      <td>-116.18016</td>\n",
       "      <td>105722410</td>\n",
       "      <td>['Atlantis Wall - Right', 'Atlantis Wall', 'At...</td>\n",
       "      <td>5</td>\n",
       "      <td>S</td>\n",
       "      <td>NaN</td>\n",
       "    </tr>\n",
       "    <tr>\n",
       "      <th>3</th>\n",
       "      <td>Bat Crack</td>\n",
       "      <td>https://www.mountainproject.com/route/10597631...</td>\n",
       "      <td>2.0</td>\n",
       "      <td>Trad</td>\n",
       "      <td>5.5</td>\n",
       "      <td>2</td>\n",
       "      <td>180.0</td>\n",
       "      <td>34.01480</td>\n",
       "      <td>-116.16300</td>\n",
       "      <td>105976311</td>\n",
       "      <td>['Intersection Rock', 'Hidden Valley Campgroun...</td>\n",
       "      <td>5</td>\n",
       "      <td>S</td>\n",
       "      <td>NaN</td>\n",
       "    </tr>\n",
       "    <tr>\n",
       "      <th>4</th>\n",
       "      <td>Beginner's Two</td>\n",
       "      <td>https://www.mountainproject.com/route/10572324...</td>\n",
       "      <td>1.6</td>\n",
       "      <td>Trad</td>\n",
       "      <td>5.5</td>\n",
       "      <td>1</td>\n",
       "      <td>170.0</td>\n",
       "      <td>34.01799</td>\n",
       "      <td>-116.16431</td>\n",
       "      <td>105723241</td>\n",
       "      <td>['The Blob - West Face', 'The Blob', 'Hidden V...</td>\n",
       "      <td>5</td>\n",
       "      <td>S</td>\n",
       "      <td>NaN</td>\n",
       "    </tr>\n",
       "    <tr>\n",
       "      <th>...</th>\n",
       "      <td>...</td>\n",
       "      <td>...</td>\n",
       "      <td>...</td>\n",
       "      <td>...</td>\n",
       "      <td>...</td>\n",
       "      <td>...</td>\n",
       "      <td>...</td>\n",
       "      <td>...</td>\n",
       "      <td>...</td>\n",
       "      <td>...</td>\n",
       "      <td>...</td>\n",
       "      <td>...</td>\n",
       "      <td>...</td>\n",
       "      <td>...</td>\n",
       "    </tr>\n",
       "    <tr>\n",
       "      <th>4889</th>\n",
       "      <td>Murf's Law</td>\n",
       "      <td>https://www.mountainproject.com/route/10572490...</td>\n",
       "      <td>1.0</td>\n",
       "      <td>TR</td>\n",
       "      <td>5.10d</td>\n",
       "      <td>1</td>\n",
       "      <td>50.0</td>\n",
       "      <td>34.08350</td>\n",
       "      <td>-116.14060</td>\n",
       "      <td>105724900</td>\n",
       "      <td>['Chocolate Corridor', 'Rattlesnake Canyon', '...</td>\n",
       "      <td>10</td>\n",
       "      <td>S</td>\n",
       "      <td>NaN</td>\n",
       "    </tr>\n",
       "    <tr>\n",
       "      <th>4890</th>\n",
       "      <td>Crocostimpy</td>\n",
       "      <td>https://www.mountainproject.com/route/10585612...</td>\n",
       "      <td>1.0</td>\n",
       "      <td>Trad</td>\n",
       "      <td>5.10d</td>\n",
       "      <td>1</td>\n",
       "      <td>50.0</td>\n",
       "      <td>33.99920</td>\n",
       "      <td>-116.05330</td>\n",
       "      <td>105856128</td>\n",
       "      <td>['Jojoba Corridor, Northeast Rock, Northeast S...</td>\n",
       "      <td>10</td>\n",
       "      <td>S</td>\n",
       "      <td>NaN</td>\n",
       "    </tr>\n",
       "    <tr>\n",
       "      <th>4891</th>\n",
       "      <td>Elbow Room</td>\n",
       "      <td>https://www.mountainproject.com/route/10584523...</td>\n",
       "      <td>1.0</td>\n",
       "      <td>Trad</td>\n",
       "      <td>5.10d</td>\n",
       "      <td>1</td>\n",
       "      <td>60.0</td>\n",
       "      <td>34.01095</td>\n",
       "      <td>-116.17650</td>\n",
       "      <td>105845239</td>\n",
       "      <td>['Arid Piles - Northeast Face', 'Arid Piles', ...</td>\n",
       "      <td>10</td>\n",
       "      <td>S</td>\n",
       "      <td>NaN</td>\n",
       "    </tr>\n",
       "    <tr>\n",
       "      <th>4892</th>\n",
       "      <td>Gumby Saves Bambi</td>\n",
       "      <td>https://www.mountainproject.com/route/10591845...</td>\n",
       "      <td>0.5</td>\n",
       "      <td>Trad</td>\n",
       "      <td>5.10d</td>\n",
       "      <td>1</td>\n",
       "      <td>160.0</td>\n",
       "      <td>34.02494</td>\n",
       "      <td>-116.15472</td>\n",
       "      <td>105918455</td>\n",
       "      <td>['Echo Rock - E Face (Left)', 'Echo Rock - Eas...</td>\n",
       "      <td>10</td>\n",
       "      <td>S</td>\n",
       "      <td>NaN</td>\n",
       "    </tr>\n",
       "    <tr>\n",
       "      <th>4893</th>\n",
       "      <td>Midnight Lumber</td>\n",
       "      <td>https://www.mountainproject.com/route/10585780...</td>\n",
       "      <td>0.5</td>\n",
       "      <td>Trad</td>\n",
       "      <td>5.10d R</td>\n",
       "      <td>1</td>\n",
       "      <td>80.0</td>\n",
       "      <td>34.00707</td>\n",
       "      <td>-116.05677</td>\n",
       "      <td>105857809</td>\n",
       "      <td>['Grand Canyon - West Wall (E. Face)', 'Grand ...</td>\n",
       "      <td>10</td>\n",
       "      <td>R</td>\n",
       "      <td>NaN</td>\n",
       "    </tr>\n",
       "  </tbody>\n",
       "</table>\n",
       "<p>4894 rows × 14 columns</p>\n",
       "</div>"
      ],
      "text/plain": [
       "                                                  Route  \\\n",
       "0     Aiguille de Joshua Tree (aka The Finger of Her...   \n",
       "1                                             The Chief   \n",
       "2                                  Men with Cow's Heads   \n",
       "3                                             Bat Crack   \n",
       "4                                        Beginner's Two   \n",
       "...                                                 ...   \n",
       "4889                                         Murf's Law   \n",
       "4890                                        Crocostimpy   \n",
       "4891                                         Elbow Room   \n",
       "4892                                  Gumby Saves Bambi   \n",
       "4893                                    Midnight Lumber   \n",
       "\n",
       "                                                    URL  stars  type   rating  \\\n",
       "0     https://www.mountainproject.com/route/10572198...    3.0  Trad    5.5 X   \n",
       "1     https://www.mountainproject.com/route/10572416...    2.4  Trad      5.5   \n",
       "2     https://www.mountainproject.com/route/10572241...    2.0  Trad      5.5   \n",
       "3     https://www.mountainproject.com/route/10597631...    2.0  Trad      5.5   \n",
       "4     https://www.mountainproject.com/route/10572324...    1.6  Trad      5.5   \n",
       "...                                                 ...    ...   ...      ...   \n",
       "4889  https://www.mountainproject.com/route/10572490...    1.0    TR    5.10d   \n",
       "4890  https://www.mountainproject.com/route/10585612...    1.0  Trad    5.10d   \n",
       "4891  https://www.mountainproject.com/route/10584523...    1.0  Trad    5.10d   \n",
       "4892  https://www.mountainproject.com/route/10591845...    0.5  Trad    5.10d   \n",
       "4893  https://www.mountainproject.com/route/10585780...    0.5  Trad  5.10d R   \n",
       "\n",
       "      Pitches  Length  latitude  Longitude         id  \\\n",
       "0           1    30.0  34.01514 -116.17858  105721981   \n",
       "1           1    40.0  34.04045 -116.17781  105724168   \n",
       "2           1    50.0  34.01886 -116.18016  105722410   \n",
       "3           2   180.0  34.01480 -116.16300  105976311   \n",
       "4           1   170.0  34.01799 -116.16431  105723241   \n",
       "...       ...     ...       ...        ...        ...   \n",
       "4889        1    50.0  34.08350 -116.14060  105724900   \n",
       "4890        1    50.0  33.99920 -116.05330  105856128   \n",
       "4891        1    60.0  34.01095 -116.17650  105845239   \n",
       "4892        1   160.0  34.02494 -116.15472  105918455   \n",
       "4893        1    80.0  34.00707 -116.05677  105857809   \n",
       "\n",
       "                                               location  grade safety  \\\n",
       "0     ['Aiguille de Joshua Tree', 'Lost Horse Area',...      5      X   \n",
       "1     ['Reggie Dome', 'North Wonderland Approach', '...      5      S   \n",
       "2     ['Atlantis Wall - Right', 'Atlantis Wall', 'At...      5      S   \n",
       "3     ['Intersection Rock', 'Hidden Valley Campgroun...      5      S   \n",
       "4     ['The Blob - West Face', 'The Blob', 'Hidden V...      5      S   \n",
       "...                                                 ...    ...    ...   \n",
       "4889  ['Chocolate Corridor', 'Rattlesnake Canyon', '...     10      S   \n",
       "4890  ['Jojoba Corridor, Northeast Rock, Northeast S...     10      S   \n",
       "4891  ['Arid Piles - Northeast Face', 'Arid Piles', ...     10      S   \n",
       "4892  ['Echo Rock - E Face (Left)', 'Echo Rock - Eas...     10      S   \n",
       "4893  ['Grand Canyon - West Wall (E. Face)', 'Grand ...     10      R   \n",
       "\n",
       "      Unnamed: 0  \n",
       "0            NaN  \n",
       "1            NaN  \n",
       "2            NaN  \n",
       "3            NaN  \n",
       "4            NaN  \n",
       "...          ...  \n",
       "4889         NaN  \n",
       "4890         NaN  \n",
       "4891         NaN  \n",
       "4892         NaN  \n",
       "4893         NaN  \n",
       "\n",
       "[4894 rows x 14 columns]"
      ]
     },
     "execution_count": 5,
     "metadata": {},
     "output_type": "execute_result"
    }
   ],
   "source": [
    "df.rename(columns = {'Rating': 'rating', 'Route Type': 'type', 'Avg Stars':'stars','Pitchees':'pitches', 'Area Latitude': 'latitude', 'Area Longitude':'longitude', 'Pitches':'pitches'})"
   ]
  },
  {
   "cell_type": "code",
   "execution_count": 48,
   "metadata": {},
   "outputs": [
    {
     "data": {
      "text/html": [
       "<div>\n",
       "<style scoped>\n",
       "    .dataframe tbody tr th:only-of-type {\n",
       "        vertical-align: middle;\n",
       "    }\n",
       "\n",
       "    .dataframe tbody tr th {\n",
       "        vertical-align: top;\n",
       "    }\n",
       "\n",
       "    .dataframe thead th {\n",
       "        text-align: right;\n",
       "    }\n",
       "</style>\n",
       "<table border=\"1\" class=\"dataframe\">\n",
       "  <thead>\n",
       "    <tr style=\"text-align: right;\">\n",
       "      <th></th>\n",
       "      <th>id</th>\n",
       "      <th>name</th>\n",
       "      <th>type</th>\n",
       "      <th>rating</th>\n",
       "      <th>stars</th>\n",
       "      <th>starVotes</th>\n",
       "      <th>pitches</th>\n",
       "      <th>location</th>\n",
       "      <th>longitude</th>\n",
       "      <th>latitude</th>\n",
       "      <th>safety</th>\n",
       "      <th>grade</th>\n",
       "    </tr>\n",
       "  </thead>\n",
       "  <tbody>\n",
       "    <tr>\n",
       "      <th>0</th>\n",
       "      <td>105722065</td>\n",
       "      <td>Illusion Dweller</td>\n",
       "      <td>Trad</td>\n",
       "      <td>5.10b</td>\n",
       "      <td>4.8</td>\n",
       "      <td>820</td>\n",
       "      <td>1.0</td>\n",
       "      <td>['California', 'Joshua Tree National Park', 'R...</td>\n",
       "      <td>-116.1713</td>\n",
       "      <td>34.0130</td>\n",
       "      <td>S</td>\n",
       "      <td>10</td>\n",
       "    </tr>\n",
       "    <tr>\n",
       "      <th>1</th>\n",
       "      <td>105721816</td>\n",
       "      <td>Figures on a Landscape (aka Monkey on My Back)</td>\n",
       "      <td>Trad</td>\n",
       "      <td>5.10b R</td>\n",
       "      <td>4.9</td>\n",
       "      <td>174</td>\n",
       "      <td>3.0</td>\n",
       "      <td>['California', 'Joshua Tree National Park', 'W...</td>\n",
       "      <td>-116.1476</td>\n",
       "      <td>34.0389</td>\n",
       "      <td>R</td>\n",
       "      <td>10</td>\n",
       "    </tr>\n",
       "    <tr>\n",
       "      <th>2</th>\n",
       "      <td>105725122</td>\n",
       "      <td>Coarse and Buggy</td>\n",
       "      <td>Trad</td>\n",
       "      <td>5.11a/b</td>\n",
       "      <td>4.9</td>\n",
       "      <td>313</td>\n",
       "      <td>1.0</td>\n",
       "      <td>['California', 'Joshua Tree National Park', 'R...</td>\n",
       "      <td>-116.1716</td>\n",
       "      <td>34.0198</td>\n",
       "      <td>S</td>\n",
       "      <td>11</td>\n",
       "    </tr>\n",
       "    <tr>\n",
       "      <th>3</th>\n",
       "      <td>105721822</td>\n",
       "      <td>Leave it to Beaver (aka The Beaver)</td>\n",
       "      <td>Trad</td>\n",
       "      <td>5.12a</td>\n",
       "      <td>4.9</td>\n",
       "      <td>95</td>\n",
       "      <td>1.0</td>\n",
       "      <td>['California', 'Joshua Tree National Park', 'R...</td>\n",
       "      <td>-116.1691</td>\n",
       "      <td>34.0141</td>\n",
       "      <td>S</td>\n",
       "      <td>12</td>\n",
       "    </tr>\n",
       "    <tr>\n",
       "      <th>4</th>\n",
       "      <td>105725101</td>\n",
       "      <td>Rubicon</td>\n",
       "      <td>Trad</td>\n",
       "      <td>5.10c</td>\n",
       "      <td>4.9</td>\n",
       "      <td>338</td>\n",
       "      <td>1.0</td>\n",
       "      <td>['California', 'Joshua Tree National Park', 'S...</td>\n",
       "      <td>-116.0572</td>\n",
       "      <td>34.0060</td>\n",
       "      <td>S</td>\n",
       "      <td>10</td>\n",
       "    </tr>\n",
       "  </tbody>\n",
       "</table>\n",
       "</div>"
      ],
      "text/plain": [
       "          id                                            name  type   rating  \\\n",
       "0  105722065                                Illusion Dweller  Trad    5.10b   \n",
       "1  105721816  Figures on a Landscape (aka Monkey on My Back)  Trad  5.10b R   \n",
       "2  105725122                                Coarse and Buggy  Trad  5.11a/b   \n",
       "3  105721822             Leave it to Beaver (aka The Beaver)  Trad    5.12a   \n",
       "4  105725101                                         Rubicon  Trad    5.10c   \n",
       "\n",
       "   stars  starVotes  pitches  \\\n",
       "0    4.8        820      1.0   \n",
       "1    4.9        174      3.0   \n",
       "2    4.9        313      1.0   \n",
       "3    4.9         95      1.0   \n",
       "4    4.9        338      1.0   \n",
       "\n",
       "                                            location  longitude  latitude  \\\n",
       "0  ['California', 'Joshua Tree National Park', 'R...  -116.1713   34.0130   \n",
       "1  ['California', 'Joshua Tree National Park', 'W...  -116.1476   34.0389   \n",
       "2  ['California', 'Joshua Tree National Park', 'R...  -116.1716   34.0198   \n",
       "3  ['California', 'Joshua Tree National Park', 'R...  -116.1691   34.0141   \n",
       "4  ['California', 'Joshua Tree National Park', 'S...  -116.0572   34.0060   \n",
       "\n",
       "  safety  grade  \n",
       "0      S     10  \n",
       "1      R     10  \n",
       "2      S     11  \n",
       "3      S     12  \n",
       "4      S     10  "
      ]
     },
     "execution_count": 48,
     "metadata": {},
     "output_type": "execute_result"
    }
   ],
   "source": [
    "df2.head()"
   ]
  },
  {
   "cell_type": "code",
   "execution_count": 3,
   "metadata": {},
   "outputs": [
    {
     "data": {
      "text/plain": [
       "1000"
      ]
     },
     "execution_count": 3,
     "metadata": {},
     "output_type": "execute_result"
    }
   ],
   "source": [
    "len(df)"
   ]
  },
  {
   "cell_type": "code",
   "execution_count": 4,
   "metadata": {},
   "outputs": [],
   "source": [
    "url  = \"https://www.mountainproject.com/route-finder-export?selectedIds=105720495&type=rock&diffMinrock=1000&diffMinboulder=20000&diffMinaid=70000&diffMinice=30000&diffMinmixed=50000&diffMaxrock=5500&diffMaxboulder=20050&diffMaxaid=75260&diffMaxice=38500&diffMaxmixed=60000&is_trad_climb=1&is_sport_climb=1&is_top_rope=1&stars=0&pitches=0&sort1=area&sort2=rating\"\n",
    "\n"
   ]
  },
  {
   "cell_type": "code",
   "execution_count": 5,
   "metadata": {},
   "outputs": [],
   "source": [
    "df = pd.read_csv(url)"
   ]
  },
  {
   "cell_type": "code",
   "execution_count": 20,
   "metadata": {},
   "outputs": [
    {
     "data": {
      "text/plain": [
       "'The Trad Crag > The Valley of Kings > Rattlesnake Canyon > Indian Cove > Joshua Tree National Park > California'"
      ]
     },
     "execution_count": 20,
     "metadata": {},
     "output_type": "execute_result"
    }
   ],
   "source": [
    "df['Location'][7]"
   ]
  },
  {
   "cell_type": "code",
   "execution_count": 22,
   "metadata": {
    "scrolled": true
   },
   "outputs": [
    {
     "data": {
      "text/plain": [
       "Route                                          It's Good To Be King\n",
       "Location          The Trad Crag > The Valley of Kings > Rattlesn...\n",
       "URL               https://www.mountainproject.com/route/10572323...\n",
       "Avg Stars                                                       1.7\n",
       "Your Stars                                                       -1\n",
       "Route Type                                                     Trad\n",
       "Rating                                                          5.8\n",
       "Pitches                                                           1\n",
       "Length                                                           70\n",
       "Area Latitude                                               34.0727\n",
       "Area Longitude                                             -116.141\n",
       "Name: 7, dtype: object"
      ]
     },
     "execution_count": 22,
     "metadata": {},
     "output_type": "execute_result"
    }
   ],
   "source": [
    "df.iloc[7]"
   ]
  },
  {
   "cell_type": "code",
   "execution_count": 23,
   "metadata": {},
   "outputs": [
    {
     "data": {
      "text/plain": [
       "Route                                              Mulholland Drive\n",
       "Location          [Redacted] > The Valley of Kings > Rattlesnake...\n",
       "URL               https://www.mountainproject.com/route/10572308...\n",
       "Avg Stars                                                       2.5\n",
       "Your Stars                                                       -1\n",
       "Route Type                                                     Trad\n",
       "Rating                                                      5.11c R\n",
       "Pitches                                                           1\n",
       "Length                                                           90\n",
       "Area Latitude                                               34.0741\n",
       "Area Longitude                                             -116.142\n",
       "Name: 2, dtype: object"
      ]
     },
     "execution_count": 23,
     "metadata": {},
     "output_type": "execute_result"
    }
   ],
   "source": [
    "df.iloc[2]"
   ]
  },
  {
   "cell_type": "code",
   "execution_count": 25,
   "metadata": {},
   "outputs": [],
   "source": [
    "df3 = pd.read_csv(\"test\")"
   ]
  },
  {
   "cell_type": "code",
   "execution_count": 26,
   "metadata": {},
   "outputs": [
    {
     "data": {
      "text/html": [
       "<div>\n",
       "<style scoped>\n",
       "    .dataframe tbody tr th:only-of-type {\n",
       "        vertical-align: middle;\n",
       "    }\n",
       "\n",
       "    .dataframe tbody tr th {\n",
       "        vertical-align: top;\n",
       "    }\n",
       "\n",
       "    .dataframe thead th {\n",
       "        text-align: right;\n",
       "    }\n",
       "</style>\n",
       "<table border=\"1\" class=\"dataframe\">\n",
       "  <thead>\n",
       "    <tr style=\"text-align: right;\">\n",
       "      <th></th>\n",
       "      <th>Unnamed: 0</th>\n",
       "      <th>Route</th>\n",
       "      <th>Location</th>\n",
       "      <th>URL</th>\n",
       "      <th>Avg Stars</th>\n",
       "      <th>Your Stars</th>\n",
       "      <th>Route Type</th>\n",
       "      <th>Rating</th>\n",
       "      <th>Pitches</th>\n",
       "      <th>Length</th>\n",
       "      <th>Area Latitude</th>\n",
       "      <th>Area Longitude</th>\n",
       "    </tr>\n",
       "  </thead>\n",
       "  <tbody>\n",
       "    <tr>\n",
       "      <th>0</th>\n",
       "      <td>0</td>\n",
       "      <td>Touch and Go</td>\n",
       "      <td>Touch and Go Face &gt; Echo Rock Area &gt; Joshua Tr...</td>\n",
       "      <td>https://www.mountainproject.com/route/10572235...</td>\n",
       "      <td>3.5</td>\n",
       "      <td>-1</td>\n",
       "      <td>Trad</td>\n",
       "      <td>5.9</td>\n",
       "      <td>1</td>\n",
       "      <td>70.0</td>\n",
       "      <td>34.02559</td>\n",
       "      <td>-116.15740</td>\n",
       "    </tr>\n",
       "    <tr>\n",
       "      <th>1</th>\n",
       "      <td>1</td>\n",
       "      <td>Ace of Spades</td>\n",
       "      <td>White Cliffs of Dover - Left Side &gt; White Clif...</td>\n",
       "      <td>https://www.mountainproject.com/route/10572271...</td>\n",
       "      <td>3.4</td>\n",
       "      <td>-1</td>\n",
       "      <td>Trad</td>\n",
       "      <td>5.9</td>\n",
       "      <td>1</td>\n",
       "      <td>80.0</td>\n",
       "      <td>34.02919</td>\n",
       "      <td>-116.19900</td>\n",
       "    </tr>\n",
       "    <tr>\n",
       "      <th>2</th>\n",
       "      <td>2</td>\n",
       "      <td>Popular Mechanics</td>\n",
       "      <td>White Cliffs of Dover - Left Side &gt; White Clif...</td>\n",
       "      <td>https://www.mountainproject.com/route/10572347...</td>\n",
       "      <td>3.4</td>\n",
       "      <td>-1</td>\n",
       "      <td>Trad</td>\n",
       "      <td>5.9</td>\n",
       "      <td>1</td>\n",
       "      <td>80.0</td>\n",
       "      <td>34.02919</td>\n",
       "      <td>-116.19900</td>\n",
       "    </tr>\n",
       "    <tr>\n",
       "      <th>3</th>\n",
       "      <td>3</td>\n",
       "      <td>High Strung</td>\n",
       "      <td>Foolproof Tower &gt; West Wonderland Valley &gt; Won...</td>\n",
       "      <td>https://www.mountainproject.com/route/10572409...</td>\n",
       "      <td>3.3</td>\n",
       "      <td>-1</td>\n",
       "      <td>Trad</td>\n",
       "      <td>5.9</td>\n",
       "      <td>1</td>\n",
       "      <td>80.0</td>\n",
       "      <td>34.03720</td>\n",
       "      <td>-116.14386</td>\n",
       "    </tr>\n",
       "    <tr>\n",
       "      <th>4</th>\n",
       "      <td>4</td>\n",
       "      <td>Pope's Crack</td>\n",
       "      <td>Echo Rock - South Face &gt; Echo Rock &gt; Echo Rock...</td>\n",
       "      <td>https://www.mountainproject.com/route/10572218...</td>\n",
       "      <td>3.2</td>\n",
       "      <td>-1</td>\n",
       "      <td>Trad</td>\n",
       "      <td>5.9</td>\n",
       "      <td>1</td>\n",
       "      <td>70.0</td>\n",
       "      <td>34.02465</td>\n",
       "      <td>-116.15513</td>\n",
       "    </tr>\n",
       "  </tbody>\n",
       "</table>\n",
       "</div>"
      ],
      "text/plain": [
       "   Unnamed: 0              Route  \\\n",
       "0           0       Touch and Go   \n",
       "1           1      Ace of Spades   \n",
       "2           2  Popular Mechanics   \n",
       "3           3        High Strung   \n",
       "4           4       Pope's Crack   \n",
       "\n",
       "                                            Location  \\\n",
       "0  Touch and Go Face > Echo Rock Area > Joshua Tr...   \n",
       "1  White Cliffs of Dover - Left Side > White Clif...   \n",
       "2  White Cliffs of Dover - Left Side > White Clif...   \n",
       "3  Foolproof Tower > West Wonderland Valley > Won...   \n",
       "4  Echo Rock - South Face > Echo Rock > Echo Rock...   \n",
       "\n",
       "                                                 URL  Avg Stars  Your Stars  \\\n",
       "0  https://www.mountainproject.com/route/10572235...        3.5          -1   \n",
       "1  https://www.mountainproject.com/route/10572271...        3.4          -1   \n",
       "2  https://www.mountainproject.com/route/10572347...        3.4          -1   \n",
       "3  https://www.mountainproject.com/route/10572409...        3.3          -1   \n",
       "4  https://www.mountainproject.com/route/10572218...        3.2          -1   \n",
       "\n",
       "  Route Type Rating  Pitches  Length  Area Latitude  Area Longitude  \n",
       "0       Trad    5.9        1    70.0       34.02559      -116.15740  \n",
       "1       Trad    5.9        1    80.0       34.02919      -116.19900  \n",
       "2       Trad    5.9        1    80.0       34.02919      -116.19900  \n",
       "3       Trad    5.9        1    80.0       34.03720      -116.14386  \n",
       "4       Trad    5.9        1    70.0       34.02465      -116.15513  "
      ]
     },
     "execution_count": 26,
     "metadata": {},
     "output_type": "execute_result"
    }
   ],
   "source": [
    "df3.head()"
   ]
  },
  {
   "cell_type": "code",
   "execution_count": 28,
   "metadata": {},
   "outputs": [],
   "source": [
    "string1 = df3['Location'][2]"
   ]
  },
  {
   "cell_type": "code",
   "execution_count": 30,
   "metadata": {},
   "outputs": [
    {
     "data": {
      "text/plain": [
       "['White Cliffs of Dover - Left Side',\n",
       " 'White Cliffs of Dover',\n",
       " 'Quail Springs Area',\n",
       " 'Joshua Tree National Park',\n",
       " 'California']"
      ]
     },
     "execution_count": 30,
     "metadata": {},
     "output_type": "execute_result"
    }
   ],
   "source": [
    "str.split(string1, ' > ')"
   ]
  },
  {
   "cell_type": "code",
   "execution_count": 33,
   "metadata": {},
   "outputs": [
    {
     "data": {
      "text/plain": [
       "0      [Touch and Go Face, Echo Rock Area, Joshua Tre...\n",
       "1      [White Cliffs of Dover - Left Side, White Clif...\n",
       "2      [White Cliffs of Dover - Left Side, White Clif...\n",
       "3      [Foolproof Tower, West Wonderland Valley, Wond...\n",
       "4      [Echo Rock - South Face, Echo Rock, Echo Rock ...\n",
       "                             ...                        \n",
       "727    [Group Camp  1 Wall, Group Campsite  1, Group ...\n",
       "728    [Hospital Crags, Joshua Tree National Park, Ca...\n",
       "729    [The Re-Todd Boulder, The Re-Todd Boulders, OZ...\n",
       "730    [South Astro Dome -  Southwest Face, South Ast...\n",
       "731    [Zebra Cliffs East Face, Zebra Cliffs, Jumbo R...\n",
       "Name: Location, Length: 732, dtype: object"
      ]
     },
     "execution_count": 33,
     "metadata": {},
     "output_type": "execute_result"
    }
   ],
   "source": [
    "df3.Location.apply(lambda string : str.split(string, ' > ') )"
   ]
  },
  {
   "cell_type": "code",
   "execution_count": 34,
   "metadata": {},
   "outputs": [
    {
     "data": {
      "text/plain": [
       "0      Touch and Go Face > Echo Rock Area > Joshua Tr...\n",
       "1      White Cliffs of Dover - Left Side > White Clif...\n",
       "2      White Cliffs of Dover - Left Side > White Clif...\n",
       "3      Foolproof Tower > West Wonderland Valley > Won...\n",
       "4      Echo Rock - South Face > Echo Rock > Echo Rock...\n",
       "                             ...                        \n",
       "727    Group Camp  1 Wall > Group Campsite  1 > Group...\n",
       "728    Hospital Crags > Joshua Tree National Park > C...\n",
       "729    The Re-Todd Boulder > The Re-Todd Boulders > O...\n",
       "730    South Astro Dome -  Southwest Face > South Ast...\n",
       "731    Zebra Cliffs East Face > Zebra Cliffs > Jumbo ...\n",
       "Name: Location, Length: 732, dtype: object"
      ]
     },
     "execution_count": 34,
     "metadata": {},
     "output_type": "execute_result"
    }
   ],
   "source": [
    "df3.Location"
   ]
  },
  {
   "cell_type": "code",
   "execution_count": 35,
   "metadata": {},
   "outputs": [
    {
     "ename": "TypeError",
     "evalue": "descriptor 'isdigit' of 'str' object needs an argument",
     "output_type": "error",
     "traceback": [
      "\u001b[0;31m---------------------------------------------------------------------------\u001b[0m",
      "\u001b[0;31mTypeError\u001b[0m                                 Traceback (most recent call last)",
      "\u001b[0;32m<ipython-input-35-da3b1ea23c5f>\u001b[0m in \u001b[0;36m<module>\u001b[0;34m\u001b[0m\n\u001b[0;32m----> 1\u001b[0;31m \u001b[0mdf3\u001b[0m\u001b[0;34m.\u001b[0m\u001b[0mURL\u001b[0m\u001b[0;34m.\u001b[0m\u001b[0mapply\u001b[0m\u001b[0;34m(\u001b[0m\u001b[0;32mlambda\u001b[0m \u001b[0mstring\u001b[0m \u001b[0;34m:\u001b[0m \u001b[0mfilter\u001b[0m\u001b[0;34m(\u001b[0m\u001b[0mstr\u001b[0m\u001b[0;34m.\u001b[0m\u001b[0misdigit\u001b[0m\u001b[0;34m(\u001b[0m\u001b[0;34m)\u001b[0m\u001b[0;34m,\u001b[0m \u001b[0mstring\u001b[0m\u001b[0;34m)\u001b[0m\u001b[0;34m)\u001b[0m\u001b[0;34m\u001b[0m\u001b[0;34m\u001b[0m\u001b[0m\n\u001b[0m",
      "\u001b[0;32m~/.local/share/virtualenvs/mtnproj-HaeZf8yB/lib/python3.8/site-packages/pandas/core/series.py\u001b[0m in \u001b[0;36mapply\u001b[0;34m(self, func, convert_dtype, args, **kwds)\u001b[0m\n\u001b[1;32m   4198\u001b[0m             \u001b[0;32melse\u001b[0m\u001b[0;34m:\u001b[0m\u001b[0;34m\u001b[0m\u001b[0;34m\u001b[0m\u001b[0m\n\u001b[1;32m   4199\u001b[0m                 \u001b[0mvalues\u001b[0m \u001b[0;34m=\u001b[0m \u001b[0mself\u001b[0m\u001b[0;34m.\u001b[0m\u001b[0mastype\u001b[0m\u001b[0;34m(\u001b[0m\u001b[0mobject\u001b[0m\u001b[0;34m)\u001b[0m\u001b[0;34m.\u001b[0m\u001b[0m_values\u001b[0m\u001b[0;34m\u001b[0m\u001b[0;34m\u001b[0m\u001b[0m\n\u001b[0;32m-> 4200\u001b[0;31m                 \u001b[0mmapped\u001b[0m \u001b[0;34m=\u001b[0m \u001b[0mlib\u001b[0m\u001b[0;34m.\u001b[0m\u001b[0mmap_infer\u001b[0m\u001b[0;34m(\u001b[0m\u001b[0mvalues\u001b[0m\u001b[0;34m,\u001b[0m \u001b[0mf\u001b[0m\u001b[0;34m,\u001b[0m \u001b[0mconvert\u001b[0m\u001b[0;34m=\u001b[0m\u001b[0mconvert_dtype\u001b[0m\u001b[0;34m)\u001b[0m\u001b[0;34m\u001b[0m\u001b[0;34m\u001b[0m\u001b[0m\n\u001b[0m\u001b[1;32m   4201\u001b[0m \u001b[0;34m\u001b[0m\u001b[0m\n\u001b[1;32m   4202\u001b[0m         \u001b[0;32mif\u001b[0m \u001b[0mlen\u001b[0m\u001b[0;34m(\u001b[0m\u001b[0mmapped\u001b[0m\u001b[0;34m)\u001b[0m \u001b[0;32mand\u001b[0m \u001b[0misinstance\u001b[0m\u001b[0;34m(\u001b[0m\u001b[0mmapped\u001b[0m\u001b[0;34m[\u001b[0m\u001b[0;36m0\u001b[0m\u001b[0;34m]\u001b[0m\u001b[0;34m,\u001b[0m \u001b[0mSeries\u001b[0m\u001b[0;34m)\u001b[0m\u001b[0;34m:\u001b[0m\u001b[0;34m\u001b[0m\u001b[0;34m\u001b[0m\u001b[0m\n",
      "\u001b[0;32mpandas/_libs/lib.pyx\u001b[0m in \u001b[0;36mpandas._libs.lib.map_infer\u001b[0;34m()\u001b[0m\n",
      "\u001b[0;32m<ipython-input-35-da3b1ea23c5f>\u001b[0m in \u001b[0;36m<lambda>\u001b[0;34m(string)\u001b[0m\n\u001b[0;32m----> 1\u001b[0;31m \u001b[0mdf3\u001b[0m\u001b[0;34m.\u001b[0m\u001b[0mURL\u001b[0m\u001b[0;34m.\u001b[0m\u001b[0mapply\u001b[0m\u001b[0;34m(\u001b[0m\u001b[0;32mlambda\u001b[0m \u001b[0mstring\u001b[0m \u001b[0;34m:\u001b[0m \u001b[0mfilter\u001b[0m\u001b[0;34m(\u001b[0m\u001b[0mstr\u001b[0m\u001b[0;34m.\u001b[0m\u001b[0misdigit\u001b[0m\u001b[0;34m(\u001b[0m\u001b[0;34m)\u001b[0m\u001b[0;34m,\u001b[0m \u001b[0mstring\u001b[0m\u001b[0;34m)\u001b[0m\u001b[0;34m)\u001b[0m\u001b[0;34m\u001b[0m\u001b[0;34m\u001b[0m\u001b[0m\n\u001b[0m",
      "\u001b[0;31mTypeError\u001b[0m: descriptor 'isdigit' of 'str' object needs an argument"
     ]
    }
   ],
   "source": [
    "df3.URL.apply(lambda string : filter(str.isdigit(), string))"
   ]
  },
  {
   "cell_type": "code",
   "execution_count": 36,
   "metadata": {},
   "outputs": [],
   "source": [
    "url1 = df3.URL[3] "
   ]
  },
  {
   "cell_type": "code",
   "execution_count": 37,
   "metadata": {},
   "outputs": [
    {
     "data": {
      "text/plain": [
       "'https://www.mountainproject.com/route/105724099/high-strung'"
      ]
     },
     "execution_count": 37,
     "metadata": {},
     "output_type": "execute_result"
    }
   ],
   "source": [
    "url1"
   ]
  },
  {
   "cell_type": "code",
   "execution_count": 47,
   "metadata": {},
   "outputs": [
    {
     "data": {
      "text/plain": [
       "'105724099'"
      ]
     },
     "execution_count": 47,
     "metadata": {},
     "output_type": "execute_result"
    }
   ],
   "source": [
    "''.join([dig for dig in url1 if str.isdigit(dig)])"
   ]
  },
  {
   "cell_type": "code",
   "execution_count": null,
   "metadata": {},
   "outputs": [],
   "source": []
  }
 ],
 "metadata": {
  "kernelspec": {
   "display_name": "Python 3",
   "language": "python",
   "name": "python3"
  },
  "language_info": {
   "codemirror_mode": {
    "name": "ipython",
    "version": 3
   },
   "file_extension": ".py",
   "mimetype": "text/x-python",
   "name": "python",
   "nbconvert_exporter": "python",
   "pygments_lexer": "ipython3",
   "version": "3.8.5"
  }
 },
 "nbformat": 4,
 "nbformat_minor": 4
}
