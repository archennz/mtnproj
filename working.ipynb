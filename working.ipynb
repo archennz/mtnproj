{
 "cells": [
  {
   "cell_type": "code",
   "execution_count": 39,
   "metadata": {},
   "outputs": [],
   "source": [
    "import pandas as pd\n",
    "import numpy as np\n",
    "from ast import literal_eval"
   ]
  },
  {
   "cell_type": "code",
   "execution_count": 15,
   "metadata": {},
   "outputs": [],
   "source": [
    "df = pd.read_csv(\"app_data/whole_jt_data.csv\")"
   ]
  },
  {
   "cell_type": "code",
   "execution_count": 16,
   "metadata": {},
   "outputs": [
    {
     "data": {
      "text/html": [
       "<div>\n",
       "<style scoped>\n",
       "    .dataframe tbody tr th:only-of-type {\n",
       "        vertical-align: middle;\n",
       "    }\n",
       "\n",
       "    .dataframe tbody tr th {\n",
       "        vertical-align: top;\n",
       "    }\n",
       "\n",
       "    .dataframe thead th {\n",
       "        text-align: right;\n",
       "    }\n",
       "</style>\n",
       "<table border=\"1\" class=\"dataframe\">\n",
       "  <thead>\n",
       "    <tr style=\"text-align: right;\">\n",
       "      <th></th>\n",
       "      <th>name</th>\n",
       "      <th>URL</th>\n",
       "      <th>stars</th>\n",
       "      <th>type</th>\n",
       "      <th>rating</th>\n",
       "      <th>pitches</th>\n",
       "      <th>Length</th>\n",
       "      <th>latitude</th>\n",
       "      <th>longitude</th>\n",
       "      <th>id</th>\n",
       "      <th>location</th>\n",
       "      <th>grade</th>\n",
       "      <th>safety</th>\n",
       "      <th>Unnamed: 0</th>\n",
       "    </tr>\n",
       "  </thead>\n",
       "  <tbody>\n",
       "    <tr>\n",
       "      <th>0</th>\n",
       "      <td>Aiguille de Joshua Tree (aka The Finger of Her...</td>\n",
       "      <td>https://www.mountainproject.com/route/10572198...</td>\n",
       "      <td>3.0</td>\n",
       "      <td>Trad</td>\n",
       "      <td>5.5 X</td>\n",
       "      <td>1</td>\n",
       "      <td>30.0</td>\n",
       "      <td>34.01514</td>\n",
       "      <td>-116.17858</td>\n",
       "      <td>105721981</td>\n",
       "      <td>['Aiguille de Joshua Tree', 'Lost Horse Area',...</td>\n",
       "      <td>5</td>\n",
       "      <td>X</td>\n",
       "      <td>NaN</td>\n",
       "    </tr>\n",
       "    <tr>\n",
       "      <th>1</th>\n",
       "      <td>The Chief</td>\n",
       "      <td>https://www.mountainproject.com/route/10572416...</td>\n",
       "      <td>2.4</td>\n",
       "      <td>Trad</td>\n",
       "      <td>5.5</td>\n",
       "      <td>1</td>\n",
       "      <td>40.0</td>\n",
       "      <td>34.04045</td>\n",
       "      <td>-116.17781</td>\n",
       "      <td>105724168</td>\n",
       "      <td>['Reggie Dome', 'North Wonderland Approach', '...</td>\n",
       "      <td>5</td>\n",
       "      <td>S</td>\n",
       "      <td>NaN</td>\n",
       "    </tr>\n",
       "    <tr>\n",
       "      <th>2</th>\n",
       "      <td>Men with Cow's Heads</td>\n",
       "      <td>https://www.mountainproject.com/route/10572241...</td>\n",
       "      <td>2.0</td>\n",
       "      <td>Trad</td>\n",
       "      <td>5.5</td>\n",
       "      <td>1</td>\n",
       "      <td>50.0</td>\n",
       "      <td>34.01886</td>\n",
       "      <td>-116.18016</td>\n",
       "      <td>105722410</td>\n",
       "      <td>['Atlantis Wall - Right', 'Atlantis Wall', 'At...</td>\n",
       "      <td>5</td>\n",
       "      <td>S</td>\n",
       "      <td>NaN</td>\n",
       "    </tr>\n",
       "    <tr>\n",
       "      <th>3</th>\n",
       "      <td>Bat Crack</td>\n",
       "      <td>https://www.mountainproject.com/route/10597631...</td>\n",
       "      <td>2.0</td>\n",
       "      <td>Trad</td>\n",
       "      <td>5.5</td>\n",
       "      <td>2</td>\n",
       "      <td>180.0</td>\n",
       "      <td>34.01480</td>\n",
       "      <td>-116.16300</td>\n",
       "      <td>105976311</td>\n",
       "      <td>['Intersection Rock', 'Hidden Valley Campgroun...</td>\n",
       "      <td>5</td>\n",
       "      <td>S</td>\n",
       "      <td>NaN</td>\n",
       "    </tr>\n",
       "    <tr>\n",
       "      <th>4</th>\n",
       "      <td>Beginner's Two</td>\n",
       "      <td>https://www.mountainproject.com/route/10572324...</td>\n",
       "      <td>1.6</td>\n",
       "      <td>Trad</td>\n",
       "      <td>5.5</td>\n",
       "      <td>1</td>\n",
       "      <td>170.0</td>\n",
       "      <td>34.01799</td>\n",
       "      <td>-116.16431</td>\n",
       "      <td>105723241</td>\n",
       "      <td>['The Blob - West Face', 'The Blob', 'Hidden V...</td>\n",
       "      <td>5</td>\n",
       "      <td>S</td>\n",
       "      <td>NaN</td>\n",
       "    </tr>\n",
       "  </tbody>\n",
       "</table>\n",
       "</div>"
      ],
      "text/plain": [
       "                                                name  \\\n",
       "0  Aiguille de Joshua Tree (aka The Finger of Her...   \n",
       "1                                          The Chief   \n",
       "2                               Men with Cow's Heads   \n",
       "3                                          Bat Crack   \n",
       "4                                     Beginner's Two   \n",
       "\n",
       "                                                 URL  stars  type rating  \\\n",
       "0  https://www.mountainproject.com/route/10572198...    3.0  Trad  5.5 X   \n",
       "1  https://www.mountainproject.com/route/10572416...    2.4  Trad    5.5   \n",
       "2  https://www.mountainproject.com/route/10572241...    2.0  Trad    5.5   \n",
       "3  https://www.mountainproject.com/route/10597631...    2.0  Trad    5.5   \n",
       "4  https://www.mountainproject.com/route/10572324...    1.6  Trad    5.5   \n",
       "\n",
       "   pitches  Length  latitude  longitude         id  \\\n",
       "0        1    30.0  34.01514 -116.17858  105721981   \n",
       "1        1    40.0  34.04045 -116.17781  105724168   \n",
       "2        1    50.0  34.01886 -116.18016  105722410   \n",
       "3        2   180.0  34.01480 -116.16300  105976311   \n",
       "4        1   170.0  34.01799 -116.16431  105723241   \n",
       "\n",
       "                                            location  grade safety  Unnamed: 0  \n",
       "0  ['Aiguille de Joshua Tree', 'Lost Horse Area',...      5      X         NaN  \n",
       "1  ['Reggie Dome', 'North Wonderland Approach', '...      5      S         NaN  \n",
       "2  ['Atlantis Wall - Right', 'Atlantis Wall', 'At...      5      S         NaN  \n",
       "3  ['Intersection Rock', 'Hidden Valley Campgroun...      5      S         NaN  \n",
       "4  ['The Blob - West Face', 'The Blob', 'Hidden V...      5      S         NaN  "
      ]
     },
     "execution_count": 16,
     "metadata": {},
     "output_type": "execute_result"
    }
   ],
   "source": [
    "df.head()"
   ]
  },
  {
   "cell_type": "code",
   "execution_count": 13,
   "metadata": {},
   "outputs": [
    {
     "data": {
      "text/plain": [
       "<pandas.core.groupby.generic.DataFrameGroupBy object at 0x122420a60>"
      ]
     },
     "execution_count": 13,
     "metadata": {},
     "output_type": "execute_result"
    }
   ],
   "source": [
    "df.groupby('location')"
   ]
  },
  {
   "cell_type": "code",
   "execution_count": 18,
   "metadata": {},
   "outputs": [],
   "source": [
    "def add_vibrations(df):\n",
    "\tradius = np.random.uniform(0, 0.0001, len(df))\n",
    "\tangle = np.random.uniform(0, 2*np.pi, len(df))\n",
    "\tlat_del = radius* np.sin(angle)\n",
    "\tlong_del = radius* np.cos(angle)\n",
    "\tdf['latitude'] = df['latitude'] + lat_del"
   ]
  },
  {
   "cell_type": "code",
   "execution_count": 19,
   "metadata": {},
   "outputs": [
    {
     "data": {
      "text/plain": [
       "0       34.01514\n",
       "1       34.04045\n",
       "2       34.01886\n",
       "3       34.01480\n",
       "4       34.01799\n",
       "          ...   \n",
       "4889    34.08350\n",
       "4890    33.99920\n",
       "4891    34.01095\n",
       "4892    34.02494\n",
       "4893    34.00707\n",
       "Name: latitude, Length: 4894, dtype: float64"
      ]
     },
     "execution_count": 19,
     "metadata": {},
     "output_type": "execute_result"
    }
   ],
   "source": [
    "df['latitude']"
   ]
  },
  {
   "cell_type": "code",
   "execution_count": 22,
   "metadata": {},
   "outputs": [],
   "source": [
    "add_vibrations(df)"
   ]
  },
  {
   "cell_type": "code",
   "execution_count": 23,
   "metadata": {},
   "outputs": [
    {
     "data": {
      "text/plain": [
       "0       34.015223\n",
       "1       34.040433\n",
       "2       34.018929\n",
       "3       34.014763\n",
       "4       34.018059\n",
       "          ...    \n",
       "4889    34.083425\n",
       "4890    33.999152\n",
       "4891    34.010877\n",
       "4892    34.024971\n",
       "4893    34.007114\n",
       "Name: latitude, Length: 4894, dtype: float64"
      ]
     },
     "execution_count": 23,
     "metadata": {},
     "output_type": "execute_result"
    }
   ],
   "source": [
    "df['latitude']"
   ]
  },
  {
   "cell_type": "code",
   "execution_count": 36,
   "metadata": {},
   "outputs": [],
   "source": [
    "string1 = df['location'][0]"
   ]
  },
  {
   "cell_type": "code",
   "execution_count": 45,
   "metadata": {},
   "outputs": [
    {
     "data": {
      "text/plain": [
       "\"['Aiguille de Joshua Tree', 'Lost Horse Area', 'Joshua Tree National Park', 'California']\""
      ]
     },
     "execution_count": 45,
     "metadata": {},
     "output_type": "execute_result"
    }
   ],
   "source": [
    "string1"
   ]
  },
  {
   "cell_type": "code",
   "execution_count": 43,
   "metadata": {},
   "outputs": [
    {
     "data": {
      "text/plain": [
       "str"
      ]
     },
     "execution_count": 43,
     "metadata": {},
     "output_type": "execute_result"
    }
   ],
   "source": [
    "type(string1)"
   ]
  },
  {
   "cell_type": "code",
   "execution_count": 44,
   "metadata": {},
   "outputs": [
    {
     "data": {
      "text/plain": [
       "[\"'Aiguille de Joshua Tree'\",\n",
       " \"'Lost Horse Area'\",\n",
       " \"'Joshua Tree National Park'\",\n",
       " \"'California'\"]"
      ]
     },
     "execution_count": 44,
     "metadata": {},
     "output_type": "execute_result"
    }
   ],
   "source": [
    "string1.strip('][').split(', ')"
   ]
  },
  {
   "cell_type": "code",
   "execution_count": 46,
   "metadata": {},
   "outputs": [
    {
     "data": {
      "text/plain": [
       "['Aiguille de Joshua Tree',\n",
       " 'Lost Horse Area',\n",
       " 'Joshua Tree National Park',\n",
       " 'California']"
      ]
     },
     "execution_count": 46,
     "metadata": {},
     "output_type": "execute_result"
    }
   ],
   "source": [
    "literal_eval(string1)"
   ]
  },
  {
   "cell_type": "code",
   "execution_count": 48,
   "metadata": {},
   "outputs": [
    {
     "data": {
      "text/plain": [
       "0                               Aiguille de Joshua Tree\n",
       "1                                           Reggie Dome\n",
       "2                                 Atlantis Wall - Right\n",
       "3                                     Intersection Rock\n",
       "4                                  The Blob - West Face\n",
       "                             ...                       \n",
       "4889                                 Chocolate Corridor\n",
       "4890    Jojoba Corridor, Northeast Rock, Northeast Side\n",
       "4891                        Arid Piles - Northeast Face\n",
       "4892                          Echo Rock - E Face (Left)\n",
       "4893                 Grand Canyon - West Wall (E. Face)\n",
       "Name: location, Length: 4894, dtype: object"
      ]
     },
     "execution_count": 48,
     "metadata": {},
     "output_type": "execute_result"
    }
   ],
   "source": [
    "df['location'].apply(lambda x : literal_eval(x)[0])"
   ]
  },
  {
   "cell_type": "code",
   "execution_count": null,
   "metadata": {},
   "outputs": [],
   "source": []
  }
 ],
 "metadata": {
  "kernelspec": {
   "display_name": "Python 3",
   "language": "python",
   "name": "python3"
  },
  "language_info": {
   "codemirror_mode": {
    "name": "ipython",
    "version": 3
   },
   "file_extension": ".py",
   "mimetype": "text/x-python",
   "name": "python",
   "nbconvert_exporter": "python",
   "pygments_lexer": "ipython3",
   "version": "3.8.5"
  }
 },
 "nbformat": 4,
 "nbformat_minor": 4
}
